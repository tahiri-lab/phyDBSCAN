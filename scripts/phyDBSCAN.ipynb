{
  "nbformat": 4,
  "nbformat_minor": 0,
  "metadata": {
    "colab": {
      "provenance": []
    },
    "kernelspec": {
      "name": "python3",
      "display_name": "Python 3"
    },
    "language_info": {
      "name": "python"
    }
  },
  "cells": [
    {
      "cell_type": "markdown",
      "source": [
        "DBSCAN Il s'agit d'un algorithme fondé sur la densité dans la mesure qui s’appuie sur la densité estimée des clusters pour effectuer le partitionnement.\n",
        "\n",
        "Pour le tester, nous allons générer, pour plus de clarté, 20 points dans l'espace 2D.\n"
      ],
      "metadata": {
        "id": "8njLesiqGHsg"
      }
    },
    {
      "cell_type": "code",
      "execution_count": null,
      "metadata": {
        "colab": {
          "base_uri": "https://localhost:8080/",
          "height": 496
        },
        "id": "QLodDk1S7TcZ",
        "outputId": "56ca18a7-416a-4529-9154-c56ffa5f063c"
      },
      "outputs": [
        {
          "output_type": "display_data",
          "data": {
            "text/plain": [
              "<Figure size 576x576 with 1 Axes>"
            ],
            "image/png": "[encoded data removed]"
          },
          "metadata": {}
        }
      ],
      "source": [
        "# Un exemple de l'article sur DBScan\n",
        "import numpy as np\n",
        "\n",
        "import os\n",
        "#import numpy  as np\n",
        "import urllib.request as url\n",
        "from array import *\n",
        "\n",
        "#from sklearn.datasets.samples_generator import make_blobs\n",
        "from sklearn.datasets import make_blobs\n",
        "from sklearn.neighbors import NearestNeighbors\n",
        "from sklearn.cluster import DBSCAN\n",
        "from matplotlib import pyplot as plt\n",
        "\n",
        "from sklearn.datasets import make_biclusters\n",
        "from sklearn.cluster import SpectralCoclustering\n",
        "from sklearn.metrics import consensus_score\n",
        "\n",
        "import seaborn as sns\n",
        "sns.set()\n",
        "\n",
        "X, y = make_blobs(n_samples=20, centers=4, cluster_std=0.6, random_state=0)\n",
        "#print(y)\n",
        "fig, ax = plt.subplots()\n",
        "\n",
        "for i in range(20):\n",
        "  \n",
        "  ax.scatter(X[:,0], X[:,1])\n",
        "  ax.text(X[i,0], X[i,1], y[i])\n",
        "  ax.text(X[i,0]+0.2, X[i,1], i, color='red')\n",
        "  \n",
        "#print(X[0],X[2])\n",
        "\n",
        "ax.set(xlim=(-2, 8), xticks=np.arange(-1, 8),\n",
        "       ylim=(0, 9), yticks=np.arange(1, 9))\n",
        "fig.set_figwidth(8)     #  ширина и\n",
        "fig.set_figheight(8)\n",
        "plt.show()\n",
        "#print(np.linalg.norm(X-X))\n",
        "#print((((1.87271752-0.52347363)**2)+((4.18069237-1.28983482)**2))**.5)"
      ]
    },
    {
      "cell_type": "markdown",
      "source": [
        "Nous avons obtenu 4 clusters de densité différente, 5 points chacun.\n",
        "Trouver des distances entre des points"
      ],
      "metadata": {
        "id": "5tzJBAAIGDiJ"
      }
    },
    {
      "cell_type": "code",
      "source": [
        "from scipy.spatial import distance_matrix\n",
        "dist_matr=distance_matrix(X, X)\n",
        "dist_matr"
      ],
      "metadata": {
        "colab": {
          "base_uri": "https://localhost:8080/"
        },
        "id": "AGAYI-Tx7X6A",
        "outputId": "e119de44-c5be-4ea3-96ae-3bdf560c0ead"
      },
      "execution_count": null,
      "outputs": [
        {
          "output_type": "execute_result",
          "data": {
            "text/plain": [
              "array([[ 0.        ,  2.50907979,  3.19022201,  0.48156107,  4.63376099,\n",
              "         4.43334988,  3.46512186,  3.79369549,  4.68174479,  4.82160323,\n",
              "         3.40182733,  2.71595204,  1.28353865,  1.02712518,  6.3609515 ,\n",
              "         3.81351601,  3.79300518,  5.6552826 ,  0.70822722,  4.82799094],\n",
              "       [ 2.50907979,  0.        ,  2.75261916,  2.120235  ,  2.52874952,\n",
              "         5.51742195,  1.05455521,  4.61769573,  3.42794871,  3.89009885,\n",
              "         4.03991895,  0.24207383,  2.16434792,  1.69666291,  5.46611259,\n",
              "         4.44767913,  1.37621151,  4.71293114,  1.97943503,  3.95229653],\n",
              "       [ 3.19022201,  2.75261916,  0.        ,  3.21812831,  2.62018397,\n",
              "         3.15798768,  2.69671495,  2.21488701,  6.17910833,  6.61735783,\n",
              "         1.63882854,  2.69108004,  3.92374469,  3.28365762,  8.20687666,\n",
              "         1.9430635 ,  2.84049932,  7.45234189,  3.2936198 ,  6.67233954],\n",
              "       [ 0.48156107,  2.120235  ,  3.21812831,  0.        ,  4.38246471,\n",
              "         4.78276808,  3.12034602,  4.08694226,  4.2133853 ,  4.37436791,\n",
              "         3.64975519,  2.34083012,  0.88110169,  0.54676305,  5.92918495,\n",
              "         4.07298524,  3.45009726,  5.21451706,  0.22890088,  4.38512779],\n",
              "       [ 4.63376099,  2.52874952,  2.62018397,  4.38246471,  0.        ,\n",
              "         5.73576846,  1.54748596,  4.80626636,  5.25720267,  5.86503831,\n",
              "         4.24851337,  2.29407701,  4.65080901,  4.09887198,  7.2796214 ,\n",
              "         4.50776607,  1.32256852,  6.57282046,  4.31307543,  5.95289126],\n",
              "       [ 4.43334988,  5.51742195,  3.15798768,  4.78276808,  5.73576846,\n",
              "         0.        ,  5.76762452,  0.94529036,  8.74363846,  9.03760675,\n",
              "         1.53580176,  5.54545683,  5.6638572 ,  5.17111836, 10.63120486,\n",
              "         1.22801514,  5.95576341,  9.89200207,  4.97891181,  9.06588846],\n",
              "       [ 3.46512186,  1.05455521,  2.69671495,  3.12034602,  1.54748596,\n",
              "         5.76762452,  0.        ,  4.82825843,  3.86419889,  4.42946446,\n",
              "         4.23482914,  0.81292745,  3.21876586,  2.73668554,  5.92076079,\n",
              "         4.59737932,  0.32976483,  5.18814046,  3.0018721 ,  4.50954058],\n",
              "       [ 3.79369549,  4.61769573,  2.21488701,  4.08694226,  4.80626636,\n",
              "         0.94529036,  4.82825843,  0.        ,  7.90375147,  8.23031954,\n",
              "         0.59343526,  4.63293603,  4.95982624,  4.42109218,  9.8309004 ,\n",
              "         0.33756904,  5.01224891,  9.08494757,  4.26475709,  8.26464206],\n",
              "       [ 4.68174479,  3.42794871,  6.17910833,  4.2133853 ,  5.25720267,\n",
              "         8.74363846,  3.86419889,  7.90375147,  0.        ,  0.6720609 ,\n",
              "         7.3551931 ,  3.51687963,  3.45104262,  3.70333613,  2.06061696,\n",
              "         7.77915779,  3.97428581,  1.32418758,  3.98521721,  0.77919357],\n",
              "       [ 4.82160323,  3.89009885,  6.61735783,  4.37436791,  5.86503831,\n",
              "         9.03760675,  4.42946446,  8.23031954,  0.6720609 ,  0.        ,\n",
              "         7.70019614,  4.0070689 ,  3.54815821,  3.90233874,  1.60307801,\n",
              "         8.12879075,  4.56453787,  0.85483877,  4.15182106,  0.10964975],\n",
              "       [ 3.40182733,  4.03991895,  1.63882854,  3.64975519,  4.24851337,\n",
              "         1.53580176,  4.23482914,  0.59343526,  7.3551931 ,  7.70019614,\n",
              "         0.        ,  4.04849447,  4.50791726,  3.94192691,  9.30277203,\n",
              "         0.43109308,  4.42001829,  8.55379248,  3.81236134,  7.73802437],\n",
              "       [ 2.71595204,  0.24207383,  2.69108004,  2.34083012,  2.29407701,\n",
              "         5.54545683,  0.81292745,  4.63293603,  3.51687963,  4.0070689 ,\n",
              "         4.04849447,  0.        ,  2.4062987 ,  1.93133751,  5.56782737,\n",
              "         4.44760977,  1.13603069,  4.81739175,  2.20769695,  4.07395632],\n",
              "       [ 1.28353865,  2.16434792,  3.92374469,  0.88110169,  4.65080901,\n",
              "         5.6638572 ,  3.21876586,  4.95982624,  3.45104262,  3.54815821,\n",
              "         4.50791726,  2.4062987 ,  0.        ,  0.64353915,  5.07798718,\n",
              "         4.93441433,  3.53786671,  4.37596738,  0.69600888,  3.55073939],\n",
              "       [ 1.02712518,  1.69666291,  3.28365762,  0.54676305,  4.09887198,\n",
              "         5.17111836,  2.73668554,  4.42109218,  3.70333613,  3.90233874,\n",
              "         3.94192691,  1.93133751,  0.64353915,  0.        ,  5.47784937,\n",
              "         4.37176795,  3.06419492,  4.75068855,  0.33147822,  3.9205068 ],\n",
              "       [ 6.3609515 ,  5.46611259,  8.20687666,  5.92918495,  7.2796214 ,\n",
              "        10.63120486,  5.92076079,  9.8309004 ,  2.06061696,  1.60307801,\n",
              "         9.30277203,  5.56782737,  5.07798718,  5.47784937,  0.        ,\n",
              "         9.73155485,  6.01818292,  0.75472206,  5.71137973,  1.56644508],\n",
              "       [ 3.81351601,  4.44767913,  1.9430635 ,  4.07298524,  4.50776607,\n",
              "         1.22801514,  4.59737932,  0.33756904,  7.77915779,  8.12879075,\n",
              "         0.43109308,  4.44760977,  4.93441433,  4.37176795,  9.73155485,\n",
              "         0.        ,  4.76748911,  8.98210984,  4.23856535,  8.16718378],\n",
              "       [ 3.79300518,  1.37621151,  2.84049932,  3.45009726,  1.32256852,\n",
              "         5.95576341,  0.32976483,  5.01224891,  3.97428581,  4.56453787,\n",
              "         4.42001829,  1.13603069,  3.53786671,  3.06419492,  6.01818292,\n",
              "         4.76748911,  0.        ,  5.29685973,  3.33119642,  4.64938482],\n",
              "       [ 5.6552826 ,  4.71293114,  7.45234189,  5.21451706,  6.57282046,\n",
              "         9.89200207,  5.18814046,  9.08494757,  1.32418758,  0.85483877,\n",
              "         8.55379248,  4.81739175,  4.37596738,  4.75068855,  0.75472206,\n",
              "         8.98210984,  5.29685973,  0.        ,  4.99384222,  0.83029875],\n",
              "       [ 0.70822722,  1.97943503,  3.2936198 ,  0.22890088,  4.31307543,\n",
              "         4.97891181,  3.0018721 ,  4.26475709,  3.98521721,  4.15182106,\n",
              "         3.81236134,  2.20769695,  0.69600888,  0.33147822,  5.71137973,\n",
              "         4.23856535,  3.33119642,  4.99384222,  0.        ,  4.1640221 ],\n",
              "       [ 4.82799094,  3.95229653,  6.67233954,  4.38512779,  5.95289126,\n",
              "         9.06588846,  4.50954058,  8.26464206,  0.77919357,  0.10964975,\n",
              "         7.73802437,  4.07395632,  3.55073939,  3.9205068 ,  1.56644508,\n",
              "         8.16718378,  4.64938482,  0.83029875,  4.1640221 ,  0.        ]])"
            ]
          },
          "metadata": {},
          "execution_count": 2
        }
      ]
    },
    {
      "cell_type": "code",
      "source": [],
      "metadata": {
        "id": "6cOBnbux8ydR"
      },
      "execution_count": null,
      "outputs": []
    },
    {
      "cell_type": "markdown",
      "source": [
        "\n",
        "\n",
        "\n"
      ],
      "metadata": {
        "id": "a_4AWrCwMEND"
      }
    },
    {
      "cell_type": "code",
      "source": [
        "\n",
        "m = DBSCAN(eps=0.9, min_samples=3)#1.65\n",
        "m.fit(X)\n",
        "clusters = m.labels_\n",
        "colors = ['royalblue', 'maroon', 'forestgreen', 'mediumorchid', 'tan', 'deeppink', 'olive', 'goldenrod', 'lightcyan', 'navy']\n",
        "vectorizer = np.vectorize(lambda x: colors[x % len(colors)])\n",
        "fig, ax = plt.subplots()\n",
        "for i in range(20):\n",
        "  ax.scatter(X[:,0], X[:,1], c=vectorizer(clusters))\n",
        "  ax.text(X[i,0], X[i,1], y[i])\n",
        "  ax.text(X[i,0]+0.2, X[i,1], i, color='red')\n",
        "ax.set(xlim=(-3, 6.5), xticks=np.arange(-2, 6.5),\n",
        "       ylim=(0, 9), yticks=np.arange(1, 9))\n",
        "fig.set_figwidth(8)     #  ширина и\n",
        "fig.set_figheight(8)\n",
        "plt.show()\n",
        "#plt.scatter(X[:,0], X[:,1], c=vectorizer(clusters))\n",
        "clusters"
      ],
      "metadata": {
        "colab": {
          "base_uri": "https://localhost:8080/",
          "height": 532
        },
        "id": "athbKvF87ejR",
        "outputId": "ab9839c7-3943-4369-d72e-9f356478a2d5"
      },
      "execution_count": null,
      "outputs": [
        {
          "output_type": "display_data",
          "data": {
            "text/plain": [
              "<Figure size 576x576 with 1 Axes>"
            ],
            "image/png": "[encoded data removed]"
          },
          "metadata": {}
        },
        {
          "output_type": "execute_result",
          "data": {
            "text/plain": [
              "array([ 0,  1, -1,  0, -1, -1,  1,  2,  3,  3,  2,  1,  0,  0,  3,  2,  1,\n",
              "        3,  0,  3])"
            ]
          },
          "metadata": {},
          "execution_count": 3
        }
      ]
    },
    {
      "cell_type": "code",
      "source": [
        "neigh = NearestNeighbors(n_neighbors=2)\n",
        "nbrs = neigh.fit(X)\n",
        "distances, indices = nbrs.kneighbors(X)\n",
        "print(distances)\n",
        "distances = np.sort(distances, axis=0)\n",
        "distances = distances[:,1]\n",
        "print(distances)\n",
        "plt.plot(distances)"
      ],
      "metadata": {
        "colab": {
          "base_uri": "https://localhost:8080/",
          "height": 722
        },
        "id": "FVeZmwb8Cbhq",
        "outputId": "af7fb61f-1dfe-4b7e-8fb4-673607514185"
      },
      "execution_count": null,
      "outputs": [
        {
          "output_type": "stream",
          "name": "stdout",
          "text": [
            "[[0.         0.48156107]\n",
            " [0.         0.24207383]\n",
            " [0.         1.63882854]\n",
            " [0.         0.22890088]\n",
            " [0.         1.32256852]\n",
            " [0.         0.94529036]\n",
            " [0.         0.32976483]\n",
            " [0.         0.33756904]\n",
            " [0.         0.6720609 ]\n",
            " [0.         0.10964975]\n",
            " [0.         0.43109308]\n",
            " [0.         0.24207383]\n",
            " [0.         0.64353915]\n",
            " [0.         0.33147822]\n",
            " [0.         0.75472206]\n",
            " [0.         0.33756904]\n",
            " [0.         0.32976483]\n",
            " [0.         0.75472206]\n",
            " [0.         0.22890088]\n",
            " [0.         0.10964975]]\n",
            "[0.10964975 0.10964975 0.22890088 0.22890088 0.24207383 0.24207383\n",
            " 0.32976483 0.32976483 0.33147822 0.33756904 0.33756904 0.43109308\n",
            " 0.48156107 0.64353915 0.6720609  0.75472206 0.75472206 0.94529036\n",
            " 1.32256852 1.63882854]\n"
          ]
        },
        {
          "output_type": "execute_result",
          "data": {
            "text/plain": [
              "[<matplotlib.lines.Line2D at 0x7f24f341bd50>]"
            ]
          },
          "metadata": {},
          "execution_count": 4
        },
        {
          "output_type": "display_data",
          "data": {
            "text/plain": [
              "<Figure size 432x288 with 1 Axes>"
            ],
            "image/png": "[encoded data removed]"
          },
          "metadata": {}
        }
      ]
    },
    {
      "cell_type": "code",
      "source": [
        "eps=0.8\n",
        "counts = []\n",
        "for i in range(20):\n",
        "  count=0\n",
        "  for item in dist_matr[i]:\n",
        "    if item<=eps:\n",
        "        count += 1\n",
        "  counts.append(count)\n",
        "counts = np.sort(counts)\n",
        "\n",
        "print(counts)\n",
        "plt.plot(counts)"
      ],
      "metadata": {
        "colab": {
          "base_uri": "https://localhost:8080/",
          "height": 304
        },
        "id": "XlROsM9sOgZi",
        "outputId": "f1d95a90-c495-4d04-96a2-4f94cf0b071a"
      },
      "execution_count": null,
      "outputs": [
        {
          "output_type": "stream",
          "name": "stdout",
          "text": [
            "[1 1 1 2 2 2 2 2 2 3 3 3 3 3 3 3 3 4 4 5]\n"
          ]
        },
        {
          "output_type": "execute_result",
          "data": {
            "text/plain": [
              "[<matplotlib.lines.Line2D at 0x7f24f34169d0>]"
            ]
          },
          "metadata": {},
          "execution_count": 5
        },
        {
          "output_type": "display_data",
          "data": {
            "text/plain": [
              "<Figure size 432x288 with 1 Axes>"
            ],
            "image/png": "[encoded data removed]"
          },
          "metadata": {}
        }
      ]
    },
    {
      "cell_type": "code",
      "source": [
        "X1, y1 = make_blobs(n_samples=20, centers=1, cluster_std=0.1, random_state=1)\n",
        "X2, y2 = make_blobs(n_samples=5, centers=1, cluster_std=0.5, random_state=5)\n",
        "X3=np.vstack((X2,X1))\n",
        "#np.hstack((y,y1))\n",
        "plt.scatter(X3[:,0], X3[:,1])"
      ],
      "metadata": {
        "colab": {
          "base_uri": "https://localhost:8080/",
          "height": 286
        },
        "id": "V0dlqGjvFu37",
        "outputId": "af023abd-a0c4-43fa-a0b2-70331095eace"
      },
      "execution_count": null,
      "outputs": [
        {
          "output_type": "execute_result",
          "data": {
            "text/plain": [
              "<matplotlib.collections.PathCollection at 0x7f24f3516410>"
            ]
          },
          "metadata": {},
          "execution_count": 6
        },
        {
          "output_type": "display_data",
          "data": {
            "text/plain": [
              "<Figure size 432x288 with 1 Axes>"
            ],
            "image/png": "[encoded data removed]"
          },
          "metadata": {}
        }
      ]
    },
    {
      "cell_type": "code",
      "source": [
        "neigh = NearestNeighbors(n_neighbors=2)\n",
        "nbrs = neigh.fit(X3)\n",
        "distances, indices = nbrs.kneighbors(X3)\n",
        "distances = np.sort(distances, axis=0)\n",
        "distances = distances[:,1]\n",
        "plt.plot(distances)"
      ],
      "metadata": {
        "colab": {
          "base_uri": "https://localhost:8080/",
          "height": 286
        },
        "id": "6uziPTHXGCtj",
        "outputId": "734a3bf1-47b9-495f-e3a9-2553720faa76"
      },
      "execution_count": null,
      "outputs": [
        {
          "output_type": "execute_result",
          "data": {
            "text/plain": [
              "[<matplotlib.lines.Line2D at 0x7f24f3306790>]"
            ]
          },
          "metadata": {},
          "execution_count": 7
        },
        {
          "output_type": "display_data",
          "data": {
            "text/plain": [
              "<Figure size 432x288 with 1 Axes>"
            ],
            "image/png": "[encoded data removed]"
          },
          "metadata": {}
        }
      ]
    },
    {
      "cell_type": "code",
      "source": [
        "dist_matr3=distance_matrix(X3, X3)\n",
        "dist_matr3\n",
        "\n",
        "eps=1.2\n",
        "counts = []\n",
        "for i in range(25):\n",
        "  count=0\n",
        "  for item in dist_matr3[i]:\n",
        "    if item<=eps:\n",
        "        count += 1\n",
        "  counts.append(count)\n",
        "counts = np.sort(counts)\n",
        "\n",
        "print(counts)\n",
        "plt.plot(counts)"
      ],
      "metadata": {
        "colab": {
          "base_uri": "https://localhost:8080/",
          "height": 322
        },
        "id": "KF0fQSt_S-26",
        "outputId": "b1b1309a-09b9-4900-9b74-430c17cd4954"
      },
      "execution_count": null,
      "outputs": [
        {
          "output_type": "stream",
          "name": "stdout",
          "text": [
            "[ 2  3  3  4  5 20 20 20 20 20 20 20 20 20 20 20 20 20 20 20 20 20 20 20\n",
            " 20]\n"
          ]
        },
        {
          "output_type": "execute_result",
          "data": {
            "text/plain": [
              "[<matplotlib.lines.Line2D at 0x7f24f33ef090>]"
            ]
          },
          "metadata": {},
          "execution_count": 8
        },
        {
          "output_type": "display_data",
          "data": {
            "text/plain": [
              "<Figure size 432x288 with 1 Axes>"
            ],
            "image/png": "[encoded data removed]"
          },
          "metadata": {}
        }
      ]
    },
    {
      "cell_type": "code",
      "source": [
        "m = DBSCAN(eps=1.1, min_samples=4) #18\n",
        "m.fit(X3)\n",
        "clusters = m.labels_\n",
        "colors = ['royalblue', 'maroon', 'forestgreen', 'mediumorchid', 'tan', 'deeppink', 'olive', 'goldenrod', 'lightcyan', 'navy']\n",
        "vectorizer = np.vectorize(lambda x: colors[x % len(colors)])\n",
        "plt.scatter(X3[:,0], X3[:,1], c=vectorizer(clusters))\n",
        "clusters"
      ],
      "metadata": {
        "colab": {
          "base_uri": "https://localhost:8080/",
          "height": 304
        },
        "id": "0KThsH_TGadQ",
        "outputId": "183f5174-0be7-4add-f29d-0c9b8d071284"
      },
      "execution_count": null,
      "outputs": [
        {
          "output_type": "execute_result",
          "data": {
            "text/plain": [
              "array([ 0, -1,  0,  0,  0,  1,  1,  1,  1,  1,  1,  1,  1,  1,  1,  1,  1,\n",
              "        1,  1,  1,  1,  1,  1,  1,  1])"
            ]
          },
          "metadata": {},
          "execution_count": 9
        },
        {
          "output_type": "display_data",
          "data": {
            "text/plain": [
              "<Figure size 432x288 with 1 Axes>"
            ],
            "image/png": "[encoded data removed]"
          },
          "metadata": {}
        }
      ]
    },
    {
      "cell_type": "code",
      "source": [
        "def mask_cluster (nb_cluster):\n",
        "    cluster = np.zeros((1,NB_CLUSTERS))\n",
        "    cluster[0,nb_cluster-1]=1\n",
        "    return cluster\n",
        "\n",
        "NB_CLUSTERS=5\n",
        "NB_DEPTH=5808\n",
        "NB_N=20\n",
        "\n",
        "values_i = np.zeros((NB_DEPTH,NB_N,NB_N))\n",
        "cluster_i = np.zeros((NB_DEPTH,NB_CLUSTERS))\n",
        "nb_eloignements = np.zeros((NB_DEPTH))\n",
        "cluster_ii = np.zeros((NB_DEPTH,NB_N,NB_CLUSTERS))\n",
        "\n",
        "fh = url.urlopen( \"https://github.com/TahiriNadia/ML_DL_Classification_Trees/raw/master/data/simulation/simulation_dataset\")\n",
        "depth = 0\n",
        "l_i = 1\n",
        "\n",
        "while True:\n",
        "    ligne = fh.readline()\n",
        "    nb_arbre,nb_taxon,nb_cluster,percent_noise,nb_eloignement = ligne.split()\n",
        "    cluster_i[depth]=mask_cluster(int(nb_cluster))\n",
        "    ##nb_eloignements[depth]=mask_cluster(int(nb_eloignement))\n",
        "    #-taxon_1[depth]=mask_cluster(int(nb_cluster))\n",
        "    #cluster_ii[depth]=mask_cluster2(int(nb_cluster), int(nb_arbre))\n",
        "    nb_eloignements[depth]=nb_eloignement\n",
        "    for i in range(0, int(nb_arbre)):\n",
        "        ligne = fh.readline()\n",
        "        values_i [depth,i,:] = ligne.split()\n",
        "\n",
        "    ligne = fh.readline()\n",
        "    depth = depth + 1\n",
        "    l_i = l_i + int(nb_arbre) + 2\n",
        "    if not ligne:\n",
        "      break\n",
        "fh.close"
      ],
      "metadata": {
        "colab": {
          "base_uri": "https://localhost:8080/"
        },
        "id": "xODD5UcLIDgy",
        "outputId": "6b4de28c-92c1-4c20-bdf3-5cd82213a78e"
      },
      "execution_count": null,
      "outputs": [
        {
          "output_type": "execute_result",
          "data": {
            "text/plain": [
              "<bound method HTTPResponse.close of <http.client.HTTPResponse object at 0x7f24f435d810>>"
            ]
          },
          "metadata": {},
          "execution_count": 10
        }
      ]
    },
    {
      "cell_type": "code",
      "source": [
        "loss=0\n",
        "nnn=0\n",
        "for nn in range(5808):\n",
        "#nn=3555\n",
        "  \n",
        "  distances5=values_i[nn]\n",
        "#.flatten()\n",
        "#print(distances)\n",
        "#print(values_i[nn])\n",
        "  distances5 = np.sort(distances5[:])\n",
        "#print(distances5)\n",
        "#distances = distances[:,1]\n",
        "  distances5 = np.sort(distances5[:,1], axis=0)\n",
        "  #---plt.plot( distances5)\n",
        "#print(distances5)\n",
        "  \n",
        "  eps=distances5[-1] #dist_matr6[-1]\n",
        "  if nb_eloignements[nn]==75:\n",
        "    if eps==0: eps=0.1 \n",
        "    nnn=nnn+1\n",
        "    distances5=values_i[nn]\n",
        "    #eps=eps\n",
        "    #--print(\"***************\")\n",
        "    #--print(\"eloignement\",nb_eloignements[nn])\n",
        "    #--print(nn)\n",
        "    #--print(cluster_i[nn])\n",
        "\n",
        "    counts = []\n",
        "    for i in range(20):\n",
        "      count=0\n",
        "      for item in distances5[i]:\n",
        "        if item<=eps:\n",
        "          count += 1\n",
        "      counts.append(count)\n",
        "    counts = np.sort(counts)\n",
        "\n",
        "#print(counts)\n",
        "    #---plt.plot(counts)\n",
        "  #eps=distances5[-1]\n",
        "    if min(counts)>3: \n",
        "      min_samples=min(counts)\n",
        "    else:\n",
        "      min_samples=3\n",
        "    #min_samples=1\n",
        "    m = DBSCAN(eps=eps, min_samples=min_samples, metric='precomputed')\n",
        "    labels=m.fit(values_i[nn]).labels_\n",
        "    n_clusters_ = len(set(labels)) - (1 if -1 in labels else 0)\n",
        "    #--print (n_clusters_)\n",
        "    if n_clusters_!=(np.argmax(cluster_i[nn])+1): loss=loss+1; #--print(\"+++\")\n",
        "    #argmax=np.argmax(cluster_i[nn])\n",
        "    #--print(\"argmax=\",np.argmax(cluster_i[nn])+1)\n",
        "    clusters = m.labels_\n",
        "#colors = ['royalblue', 'maroon', 'forestgreen', 'mediumorchid', 'tan', 'deeppink', 'olive', 'goldenrod', 'lightcyan', 'navy']\n",
        "#vectorizer = np.vectorize(lambda x: colors[x % len(colors)])\n",
        "#plt.scatter(X3[:,0], X3[:,1], c=vectorizer(clusters))\n",
        "    #--print(\"clsters=\",clusters)\n",
        "    #--print(\"N=\",nnn)\n",
        "    #--print(\"loss=\",loss)\n",
        "print(\"N=\",nnn)\n",
        "print(\"Loss=\",loss)\n",
        "\n",
        "\n"
      ],
      "metadata": {
        "id": "7soFjXHtbIAm",
        "colab": {
          "base_uri": "https://localhost:8080/"
        },
        "outputId": "d88b136e-ffcc-4143-ac0d-e2e9872c848b"
      },
      "execution_count": null,
      "outputs": [
        {
          "output_type": "stream",
          "name": "stdout",
          "text": [
            "N= 915\n",
            "Loss= 214\n"
          ]
        }
      ]
    },
    {
      "cell_type": "markdown",
      "source": [
        "[0.       0.538462 0.538462 0.615385 0.615385 0.615385 0.615385 0.692308\n",
        "  0.692308 0.769231 0.769231 0.769231 0.769231 0.769231 0.846154 0.846154\n",
        "  0.846154 0.846154 0.846154 0.846154]\n",
        "  "
      ],
      "metadata": {
        "id": "zKNMQlIudGd1"
      }
    },
    {
      "cell_type": "code",
      "source": [
        "\n",
        "  "
      ],
      "metadata": {
        "id": "R9Bko3xUdJZG"
      },
      "execution_count": null,
      "outputs": []
    },
    {
      "cell_type": "code",
      "source": [
        "\n",
        "  \n",
        "\n",
        "\n",
        "#mmm=0.4\n",
        "#m = DBSCAN(eps=mmm, min_samples=3, metric='precomputed')\n",
        "#labels=m.fit(values_i[nn], sample_weight=2).labels_\n"
      ],
      "metadata": {
        "id": "-72LbIX66Zql"
      },
      "execution_count": null,
      "outputs": []
    }
  ]
}